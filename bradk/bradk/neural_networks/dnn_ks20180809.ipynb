{
 "cells": [
  {
   "cell_type": "code",
   "execution_count": 1,
   "metadata": {},
   "outputs": [
    {
     "name": "stderr",
     "output_type": "stream",
     "text": [
      "Using TensorFlow backend.\n"
     ]
    }
   ],
   "source": [
    "import numpy as np\n",
    "import matplotlib.pyplot as plt\n",
    "import time\n",
    "import math\n",
    "#-------------------------------\n",
    "import keras\n",
    "from keras.models import Sequential\n",
    "from keras.layers import Dense, Activation, BatchNormalization, Dropout\n",
    "from keras.optimizers import SGD, Adam"
   ]
  },
  {
   "cell_type": "code",
   "execution_count": 2,
   "metadata": {},
   "outputs": [],
   "source": [
    "def train(x_train, y_train, x_test, y_test, hpar):\n",
    "    input_shape = x_train.shape[1:]\n",
    "    output_num = y_train.shape[1]\n",
    "    if hpar['activation_last_layer'] == 'sigmoid': # loss function\n",
    "        loss = 'binary_crossentropy'\n",
    "    elif hpar['activation_last_layer'] == 'softmax':\n",
    "        loss = 'categorical_crossentropy'\n",
    "    if hpar['optimizer'] == 'gradient descent': # optimizer\n",
    "        optimizer = SGD(lr=hpar['learning_rate'])\n",
    "    elif hpar['optimizer'] == 'adam':\n",
    "        optimizer = Adam(lr=hpar['learning_rate'])\n",
    "    #-----------------------------------------------------\n",
    "    model = Sequential()\n",
    "    model.add(Dropout(hpar['dropout_rate_input_layer'], input_shape=input_shape))\n",
    "    model.add(BatchNormalization())\n",
    "    for i in range(len(hpar['hidden_layer_dims'])):\n",
    "        model.add(Dense(hpar['hidden_layer_dims'][i]))\n",
    "        model.add(Dropout(hpar['dropout_rate_hidden_layers'][i]))\n",
    "        model.add(BatchNormalization())\n",
    "        model.add(Activation(hpar['activation_hidden_layers'])) # 'sigmoid', 'tanh', 'relu'\n",
    "    model.add(Dense(output_num))\n",
    "    model.add(BatchNormalization())\n",
    "    model.add(Activation(hpar['activation_last_layer']))\n",
    "    model.compile(optimizer = optimizer, loss = loss, metrics = ['accuracy'])\n",
    "    #-----------------------------------------------------\n",
    "    model.summary()\n",
    "    loss = []\n",
    "    accu = []\n",
    "    for i in range(1, 1 + max(1, hpar['num_epochs'] // hpar['print_cost'])):\n",
    "        tic = time.time()\n",
    "        fout = model.fit(x_train, y_train, epochs=hpar['print_cost'], batch_size=hpar['minibatch_size'], class_weight=hpar['class_weight'], verbose=0)\n",
    "        toc = time.time()\n",
    "        loss = loss + fout.history['loss']\n",
    "        accu = accu + fout.history['acc']\n",
    "        score_train = model.evaluate(x_train, y_train, batch_size=hpar['minibatch_size'], verbose=0)\n",
    "        score_test = model.evaluate(x_test, y_test, batch_size=hpar['minibatch_size'], verbose=0)\n",
    "        print('>> epochs = ', (i*hpar['print_cost']),'; Train loss/acc = %f/%f'%(score_train[0],score_train[1]), '; Test loss/acc = %f/%f'%(score_test[0],score_test[1]), '; time = %f sec '%(toc-tic))\n",
    "    mout = {'model': model,\n",
    "            'loss': loss,\n",
    "            'accu': accu}\n",
    "    return mout"
   ]
  },
  {
   "cell_type": "code",
   "execution_count": 3,
   "metadata": {},
   "outputs": [
    {
     "name": "stdout",
     "output_type": "stream",
     "text": [
      "x_train =  (700, 2)\n",
      "y_train =  (700, 1)\n",
      "x_test =  (300, 2)\n",
      "y_test =  (300, 1)\n",
      "y_train_one_hot =  (700, 2)\n",
      "y_test_one_hot =  (300, 2)\n",
      "_________________________________________________________________\n",
      "Layer (type)                 Output Shape              Param #   \n",
      "=================================================================\n",
      "dropout_1 (Dropout)          (None, 2)                 0         \n",
      "_________________________________________________________________\n",
      "batch_normalization_1 (Batch (None, 2)                 8         \n",
      "_________________________________________________________________\n",
      "dense_1 (Dense)              (None, 20)                60        \n",
      "_________________________________________________________________\n",
      "dropout_2 (Dropout)          (None, 20)                0         \n",
      "_________________________________________________________________\n",
      "batch_normalization_2 (Batch (None, 20)                80        \n",
      "_________________________________________________________________\n",
      "activation_1 (Activation)    (None, 20)                0         \n",
      "_________________________________________________________________\n",
      "dense_2 (Dense)              (None, 10)                210       \n",
      "_________________________________________________________________\n",
      "dropout_3 (Dropout)          (None, 10)                0         \n",
      "_________________________________________________________________\n",
      "batch_normalization_3 (Batch (None, 10)                40        \n",
      "_________________________________________________________________\n",
      "activation_2 (Activation)    (None, 10)                0         \n",
      "_________________________________________________________________\n",
      "dense_3 (Dense)              (None, 5)                 55        \n",
      "_________________________________________________________________\n",
      "dropout_4 (Dropout)          (None, 5)                 0         \n",
      "_________________________________________________________________\n",
      "batch_normalization_4 (Batch (None, 5)                 20        \n",
      "_________________________________________________________________\n",
      "activation_3 (Activation)    (None, 5)                 0         \n",
      "_________________________________________________________________\n",
      "dense_4 (Dense)              (None, 2)                 12        \n",
      "_________________________________________________________________\n",
      "batch_normalization_5 (Batch (None, 2)                 8         \n",
      "_________________________________________________________________\n",
      "activation_4 (Activation)    (None, 2)                 0         \n",
      "=================================================================\n",
      "Total params: 493\n",
      "Trainable params: 415\n",
      "Non-trainable params: 78\n",
      "_________________________________________________________________\n",
      ">> epochs =  1000 ; Train loss/acc = 0.170821/0.925714 ; Test loss/acc = 0.248456/0.906667 ; time = 23.734723 sec \n",
      ">> epochs =  2000 ; Train loss/acc = 0.381015/0.907143 ; Test loss/acc = 0.460005/0.903333 ; time = 10.879869 sec \n",
      ">> epochs =  3000 ; Train loss/acc = 0.520559/0.897143 ; Test loss/acc = 0.553812/0.900000 ; time = 11.354869 sec \n"
     ]
    },
    {
     "data": {
      "image/png": "[encoded data removed]",
      "text/plain": [
       "<Figure size 432x288 with 1 Axes>"
      ]
     },
     "metadata": {},
     "output_type": "display_data"
    },
    {
     "data": {
      "image/png": "[encoded data removed]",
      "text/plain": [
       "<Figure size 432x288 with 1 Axes>"
      ]
     },
     "metadata": {},
     "output_type": "display_data"
    },
    {
     "name": "stdout",
     "output_type": "stream",
     "text": [
      "0.9\n"
     ]
    }
   ],
   "source": [
    "def generate_2D_dataset(num_sample = 1000, seed = 1):\n",
    "    np.random.seed(seed)\n",
    "    X = np.random.rand(2, num_sample)\n",
    "    #Y = np.int32((X[1,:] - X[0,:] + 0.3) > 0).reshape(1, num_sample)  # line\n",
    "    #Y = np.int32((X[0,:]**2 + X[1,:]**2 - 0.7**2) > 0).reshape(1, num_sample) # semi-circle\n",
    "    #Y = np.int32(((X[0,:]-0.5)**2 + (X[1,:]-0.5)**2 - 0.3**2) > 0).reshape(1, num_sample)  # circle\n",
    "    #Y = np.int32((((X[0,:]-0.5)/0.4)**2 + ((X[1,:]-0.2)/0.05)**2 - 1) > 0).reshape(1, num_sample)  # ellipse\n",
    "    Y = np.int32(((((X[0,:]-0.5)/0.4)**2 + ((X[1,:]-0.2)/0.05)**2 - 1) > 0) & (((X[0,:]-0.7)**2 + (X[1,:]-0.7)**2 - 0.1**2) > 0)).reshape(1, num_sample) # ellipse & circle\n",
    "    #-----------------------------------------------------------------\n",
    "    rn = np.random.permutation(num_sample)\n",
    "    NofT = math.floor(num_sample * 0.7) # number of train samples\n",
    "    X_train = X[:,rn[0:NofT]]\n",
    "    Y_train = Y[:,rn[0:NofT]]\n",
    "    X_test = X[:,rn[NofT:]]\n",
    "    Y_test = Y[:,rn[NofT:]]\n",
    "    return X_train, Y_train, X_test, Y_test\n",
    "def convert_keras_input(X_train, Y_train, X_test, Y_test):\n",
    "    x_train = X_train.T\n",
    "    y_train = Y_train.T\n",
    "    x_test = X_test.T\n",
    "    y_test = Y_test.T\n",
    "    y_train_one_hot = keras.utils.to_categorical(y_train, num_classes=2)\n",
    "    y_test_one_hot = keras.utils.to_categorical(y_test, num_classes=2)\n",
    "    print(\"x_train = \", x_train.shape)\n",
    "    print(\"y_train = \", y_train.shape)\n",
    "    print(\"x_test = \", x_test.shape)\n",
    "    print(\"y_test = \", y_test.shape)\n",
    "    print(\"y_train_one_hot = \", y_train_one_hot.shape)\n",
    "    print(\"y_test_one_hot = \", y_test_one_hot.shape)\n",
    "    return x_train, y_train, x_test, y_test, y_train_one_hot, y_test_one_hot\n",
    "if False:\n",
    "    X_train, Y_train, X_test, Y_test = generate_2D_dataset()\n",
    "    x_train, y_train, x_test, y_test, y_train_one_hot, y_test_one_hot = convert_keras_input(X_train, Y_train, X_test, Y_test)\n",
    "    #-------------------------------------------------------------\n",
    "    hpar = {}\n",
    "    hpar['hidden_layer_dims'] = [20,10,5]\n",
    "    hpar['dropout_rate_input_layer'] = 0.0\n",
    "#    hpar['dropout_rate_hidden_layers'] = [0.0, 0.0, 0.0]\n",
    "    hpar['dropout_rate_hidden_layers'] = [0.2, 0.2, 0.2]\n",
    "    hpar['activation_hidden_layers'] = ['sigmoid', 'tanh', 'relu'][2]\n",
    "    hpar['activation_last_layer'] = ['sigmoid', 'softmax'][1]\n",
    "    hpar['learning_rate'] = 0.01\n",
    "    hpar['num_epochs'] = 3000\n",
    "    hpar['minibatch_size'] = 999999\n",
    "    hpar['optimizer'] = [\"gradient descent\", \"momentum\", \"adam\"][2]\n",
    "    hpar['class_weight'] = None\n",
    "    hpar['print_cost'] = 1000 # print epoch step; no print when it is zero\n",
    "    mout = train(x_train, y_train_one_hot, x_test, y_test_one_hot, hpar)\n",
    "    #-------------------------------------------------------------\n",
    "    plt.plot(mout['loss'])\n",
    "    plt.show()\n",
    "    plt.plot(mout['accu'])\n",
    "    plt.show()\n",
    "    #-------------------------------------------------------------\n",
    "    yp_test_one_hot = mout['model'].predict(x_test)\n",
    "    yp_test = np.argmax(yp_test_one_hot, axis = 1).reshape(y_test.shape)\n",
    "    accuracy_test = np.mean(y_test == yp_test)\n",
    "    print(accuracy_test)  "
   ]
  },
  {
   "cell_type": "code",
   "execution_count": null,
   "metadata": {},
   "outputs": [],
   "source": [
    "'''\n",
    "What's new from dnn_ks20180118?\n",
    "(1) drop-out layer added\n",
    "(2) hpar['dropout_rate_input_layer'] and hpar['dropout_rate_hidden_layers'] parameters added\n",
    "'''"
   ]
  },
  {
   "cell_type": "code",
   "execution_count": null,
   "metadata": {},
   "outputs": [],
   "source": []
  }
 ],
 "metadata": {
  "kernelspec": {
   "display_name": "Python 3",
   "language": "python",
   "name": "python3"
  },
  "language_info": {
   "codemirror_mode": {
    "name": "ipython",
    "version": 3
   },
   "file_extension": ".py",
   "mimetype": "text/x-python",
   "name": "python",
   "nbconvert_exporter": "python",
   "pygments_lexer": "ipython3",
   "version": "3.5.5"
  }
 },
 "nbformat": 4,
 "nbformat_minor": 2
}
