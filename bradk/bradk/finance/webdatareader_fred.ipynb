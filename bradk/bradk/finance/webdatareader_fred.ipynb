{
 "cells": [
  {
   "cell_type": "code",
   "execution_count": 1,
   "metadata": {},
   "outputs": [],
   "source": [
    "import pandas as pd\n",
    "pd.core.common.is_list_like = pd.api.types.is_list_like # https://stackoverflow.com/questions/50394873/import-pandas-datareader-gives-importerror-cannot-import-name-is-list-like\n",
    "import pandas_datareader.data as web"
   ]
  },
  {
   "cell_type": "code",
   "execution_count": 2,
   "metadata": {},
   "outputs": [],
   "source": [
    "# http://pandas-datareader.readthedocs.io/en/latest/remote_data.html\n",
    "# https://ntguardian.wordpress.com/2016/09/19/introduction-stock-market-data-python-1/\n",
    "def download_tables(ticker, start=pd.Timestamp('1800-01-01'), end=pd.Timestamp.today()): # read table data from the star page to end page\n",
    "    df = web.DataReader(ticker, 'fred', start, end)\n",
    "    return df"
   ]
  },
  {
   "cell_type": "code",
   "execution_count": 3,
   "metadata": {},
   "outputs": [],
   "source": [
    "def update_data_in_db(filepath, ticker, COL_DATE = 'DATE'):\n",
    "    try:\n",
    "        df = pd.read_csv(filepath) # read the already sorted data\n",
    "        df[COL_DATE] = pd.to_datetime(df[COL_DATE])\n",
    "        latestDate = df.iloc[-1][COL_DATE] # temporarily save the latest date\n",
    "        if latestDate < pd.Timestamp.today():\n",
    "            start=latestDate + pd.Timedelta(seconds=1)\n",
    "            end=pd.Timestamp.today()\n",
    "            df0 = download_tables(ticker, start, end)\n",
    "            df0.reset_index(inplace=True)\n",
    "            df = pd.concat([df, df0])\n",
    "    except:\n",
    "        print(\"File not found in the database. Now, searching the internet to download information...\")\n",
    "        df = download_tables(ticker) # download the data from the website\n",
    "        df.reset_index(inplace=True)\n",
    "        print(\"Downloading completed.\")\n",
    "    df.sort_values(COL_DATE, inplace = True) # sort in order of date & time\n",
    "    df.to_csv(filepath, index=False) # save the data to db\n",
    "    return df"
   ]
  },
  {
   "cell_type": "code",
   "execution_count": 4,
   "metadata": {},
   "outputs": [],
   "source": [
    "if False:\n",
    "    ticker = 'UNRATE'\n",
    "    df = download_tables(ticker)\n",
    "\n",
    "    import matplotlib.pyplot as plt\n",
    "    %matplotlib inline\n",
    "    df['UNRATE'].plot(grid = True)\n",
    "if False:\n",
    "    df = update_data_in_db('c:/Users/bomso/bomsoo1/project/python/unemply.csv', 'UNRATE')\n",
    "    print(df.iloc[-35:])"
   ]
  },
  {
   "cell_type": "code",
   "execution_count": null,
   "metadata": {},
   "outputs": [],
   "source": []
  }
 ],
 "metadata": {
  "kernelspec": {
   "display_name": "Python 3",
   "language": "python",
   "name": "python3"
  },
  "language_info": {
   "codemirror_mode": {
    "name": "ipython",
    "version": 3
   },
   "file_extension": ".py",
   "mimetype": "text/x-python",
   "name": "python",
   "nbconvert_exporter": "python",
   "pygments_lexer": "ipython3",
   "version": "3.6.6"
  }
 },
 "nbformat": 4,
 "nbformat_minor": 2
}
